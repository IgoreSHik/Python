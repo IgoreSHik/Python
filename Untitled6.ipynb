{
 "cells": [
  {
   "cell_type": "code",
   "execution_count": null,
   "id": "2d5dfff3",
   "metadata": {},
   "outputs": [],
   "source": [
    "import tensorflow as tf\n",
    "# deep learning library. Tensors are just multi-dimensional arrays\n",
    "mnist = tf.keras.datasets.mnist\n",
    "# mnist is a dataset of 28x28 images of handwritten digits and their labels\n",
    "(x_train, y_train),(x_test, y_test) = mnist.load_data()\n",
    "# unpacks images to x_train/x_test and labels to y_train/y_test\n",
    "x_train = tf.keras.utils.normalize(x_train, axis=1) # scales data between 0 and 1\n",
    "x_test = tf.keras.utils.normalize(x_test, axis=1) # scales data between 0 and 1\n",
    "model = tf.keras.models.Sequential() # a basic feed-forward model\n",
    "model.add(tf.keras.layers.Flatten()) # takes our 28x28 and makes it 1x784\n",
    "model.add(tf.keras.layers.Dense(128, activation=tf.nn.relu))\n",
    "# a simple fully-connected layer, 128 units, relu activation\n",
    "model.add(tf.keras.layers.Dense(128, activation=tf.nn.relu))\n",
    "# a simple fully-connected layer, 128 units, relu activation\n",
    "model.add(tf.keras.layers.Dense(10, activation=tf.nn.softmax))\n",
    "# our output layer. 10 units for 10 classes.\n",
    "model.compile(optimizer='adam', # Good default optimizer to start with\n",
    " loss='sparse_categorical_crossentropy',\n",
    "# how will we calculate our \"error.\" Neural network aims to minimize loss.\n",
    " metrics=['accuracy'])\n",
    "# what to track\n",
    "model.fit(x_train, y_train, batch_size=1, epochs=3) # train the model\n",
    "val_loss, val_acc = model.evaluate(x_test, y_test) # evaluate the out of sample data with model\n",
    "print(val_loss) # model's loss (error)\n",
    "print(val_acc) # model's accuracy"
   ]
  },
  {
   "cell_type": "code",
   "execution_count": null,
   "id": "3cbb60fb",
   "metadata": {},
   "outputs": [],
   "source": []
  }
 ],
 "metadata": {
  "kernelspec": {
   "display_name": "Python 3 (ipykernel)",
   "language": "python",
   "name": "python3"
  },
  "language_info": {
   "codemirror_mode": {
    "name": "ipython",
    "version": 3
   },
   "file_extension": ".py",
   "mimetype": "text/x-python",
   "name": "python",
   "nbconvert_exporter": "python",
   "pygments_lexer": "ipython3",
   "version": "3.11.3"
  }
 },
 "nbformat": 4,
 "nbformat_minor": 5
}
