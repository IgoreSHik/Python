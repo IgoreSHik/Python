{
 "cells": [
  {
   "cell_type": "code",
   "execution_count": 1,
   "id": "6537fc48",
   "metadata": {},
   "outputs": [],
   "source": [
    "import numpy as np\n",
    "import matplotlib.pyplot as plt\n",
    "import pandas as pd"
   ]
  },
  {
   "cell_type": "code",
   "execution_count": 2,
   "id": "de34bab0",
   "metadata": {},
   "outputs": [
    {
     "data": {
      "text/plain": [
       "array([[0, 1, 2],\n",
       "       [2, 1, 0]])"
      ]
     },
     "execution_count": 2,
     "metadata": {},
     "output_type": "execute_result"
    }
   ],
   "source": [
    "x = np.array([[0, 2], [1, 1], [2, 0]]).T\n",
    "x"
   ]
  },
  {
   "cell_type": "code",
   "execution_count": 3,
   "id": "cb795d59",
   "metadata": {},
   "outputs": [
    {
     "data": {
      "text/plain": [
       "array([[ 1., -1.],\n",
       "       [-1.,  1.]])"
      ]
     },
     "execution_count": 3,
     "metadata": {},
     "output_type": "execute_result"
    }
   ],
   "source": [
    "np.cov(x)"
   ]
  },
  {
   "cell_type": "code",
   "execution_count": 4,
   "id": "d1ca6b5b",
   "metadata": {},
   "outputs": [],
   "source": [
    "def cov(data):\n",
    "    data = data.to_numpy()\n",
    "    \n",
    "    print(\"np.cov()\")\n",
    "    print(np.cov(data, rowvar=False))\n",
    "\n",
    "    print(\"Moja funkcja\")\n",
    "    mean_value = [data[:,0].mean(),data[:,1].mean(),data[:,2].mean(),data[:,3].mean()]\n",
    "    for line in data:\n",
    "        for i in range(4):\n",
    "            line[i] = line[i]-mean_value[i]\n",
    "    f = np.dot(data.T,data)\n",
    "    print(f / (data.shape[0]-1))"
   ]
  },
  {
   "cell_type": "code",
   "execution_count": 5,
   "id": "d541bd89",
   "metadata": {},
   "outputs": [],
   "source": [
    "data = pd.read_csv('iris.data.csv')"
   ]
  },
  {
   "cell_type": "code",
   "execution_count": 6,
   "id": "65f72745",
   "metadata": {},
   "outputs": [],
   "source": [
    "data_setosa = data[data['species'] == \"setosa\"]\n",
    "data_setosa = data_setosa.drop('species', axis=1)\n",
    "#print (data_setosa)"
   ]
  },
  {
   "cell_type": "code",
   "execution_count": 7,
   "id": "285a5199",
   "metadata": {},
   "outputs": [
    {
     "name": "stdout",
     "output_type": "stream",
     "text": [
      "np.cov()\n",
      "[[0.12424898 0.10029796 0.01613878 0.01054694]\n",
      " [0.10029796 0.14517959 0.01168163 0.01143673]\n",
      " [0.01613878 0.01168163 0.03010612 0.00569796]\n",
      " [0.01054694 0.01143673 0.00569796 0.01149388]]\n",
      "Moja funkcja\n",
      "[[0.12424898 0.10029796 0.01613878 0.01054694]\n",
      " [0.10029796 0.14517959 0.01168163 0.01143673]\n",
      " [0.01613878 0.01168163 0.03010612 0.00569796]\n",
      " [0.01054694 0.01143673 0.00569796 0.01149388]]\n"
     ]
    }
   ],
   "source": [
    "cov(data_setosa)"
   ]
  },
  {
   "cell_type": "code",
   "execution_count": 8,
   "id": "8b619cd5",
   "metadata": {},
   "outputs": [],
   "source": [
    "data_versicolor = data[data['species'] == \"versicolor\"]\n",
    "data_versicolor = data_versicolor.drop('species', axis=1)\n",
    "#print (data_versicolor)"
   ]
  },
  {
   "cell_type": "code",
   "execution_count": 9,
   "id": "3f918655",
   "metadata": {},
   "outputs": [
    {
     "name": "stdout",
     "output_type": "stream",
     "text": [
      "np.cov()\n",
      "[[0.26643265 0.08518367 0.18289796 0.05577959]\n",
      " [0.08518367 0.09846939 0.08265306 0.04120408]\n",
      " [0.18289796 0.08265306 0.22081633 0.07310204]\n",
      " [0.05577959 0.04120408 0.07310204 0.03910612]]\n",
      "Moja funkcja\n",
      "[[0.26643265 0.08518367 0.18289796 0.05577959]\n",
      " [0.08518367 0.09846939 0.08265306 0.04120408]\n",
      " [0.18289796 0.08265306 0.22081633 0.07310204]\n",
      " [0.05577959 0.04120408 0.07310204 0.03910612]]\n"
     ]
    }
   ],
   "source": [
    "cov(data_versicolor)"
   ]
  },
  {
   "cell_type": "code",
   "execution_count": 10,
   "id": "f3ca5efb",
   "metadata": {},
   "outputs": [],
   "source": [
    "data_virginica = data[data['species'] == \"virginica\"]\n",
    "data_virginica = data_virginica.drop('species', axis=1)\n",
    "#print (data_virginica)"
   ]
  },
  {
   "cell_type": "code",
   "execution_count": 11,
   "id": "e52600da",
   "metadata": {},
   "outputs": [
    {
     "name": "stdout",
     "output_type": "stream",
     "text": [
      "np.cov()\n",
      "[[0.40434286 0.09376327 0.3032898  0.04909388]\n",
      " [0.09376327 0.10400408 0.07137959 0.04762857]\n",
      " [0.3032898  0.07137959 0.30458776 0.04882449]\n",
      " [0.04909388 0.04762857 0.04882449 0.07543265]]\n",
      "Moja funkcja\n",
      "[[0.40434286 0.09376327 0.3032898  0.04909388]\n",
      " [0.09376327 0.10400408 0.07137959 0.04762857]\n",
      " [0.3032898  0.07137959 0.30458776 0.04882449]\n",
      " [0.04909388 0.04762857 0.04882449 0.07543265]]\n"
     ]
    }
   ],
   "source": [
    "cov(data_virginica)"
   ]
  },
  {
   "cell_type": "code",
   "execution_count": 12,
   "id": "a23e4124",
   "metadata": {},
   "outputs": [
    {
     "name": "stdout",
     "output_type": "stream",
     "text": [
      "[[0.12424898 0.10029796 0.01613878 0.01054694]\n",
      " [0.10029796 0.14517959 0.01168163 0.01143673]\n",
      " [0.01613878 0.01168163 0.03010612 0.00569796]\n",
      " [0.01054694 0.01143673 0.00569796 0.01149388]]\n"
     ]
    },
    {
     "data": {
      "image/png": "[encoded data removed]",
      "text/plain": [
       "<Figure size 640x480 with 1 Axes>"
      ]
     },
     "metadata": {},
     "output_type": "display_data"
    }
   ],
   "source": [
    "Sigma = np.cov(data_setosa, rowvar=False)\n",
    "print(Sigma)\n",
    "\n",
    "eigenvalues, eigenvectors = np.linalg.eig(Sigma)\n",
    "\n",
    "k1 = eigenvectors[:, 0]\n",
    "k2 = eigenvectors[:, 1]\n",
    "\n",
    "transformed_data = np.dot(data_setosa, np.column_stack((k1, k2)))\n",
    "\n",
    "plt.scatter(transformed_data[:, 0], transformed_data[:, 1])\n",
    "plt.quiver(0, 0, k1[0], k1[1], angles='xy', scale_units='xy', scale=1)\n",
    "plt.quiver(0, 0, k2[0], k2[1], angles='xy', scale_units='xy', scale=1)\n",
    "plt.grid()\n",
    "plt.xlim(-1, 1) \n",
    "plt.ylim(-1, 1)\n",
    "plt.show()"
   ]
  },
  {
   "cell_type": "code",
   "execution_count": null,
   "id": "91c2c84e",
   "metadata": {},
   "outputs": [],
   "source": []
  }
 ],
 "metadata": {
  "kernelspec": {
   "display_name": "Python 3 (ipykernel)",
   "language": "python",
   "name": "python3"
  },
  "language_info": {
   "codemirror_mode": {
    "name": "ipython",
    "version": 3
   },
   "file_extension": ".py",
   "mimetype": "text/x-python",
   "name": "python",
   "nbconvert_exporter": "python",
   "pygments_lexer": "ipython3",
   "version": "3.11.3"
  }
 },
 "nbformat": 4,
 "nbformat_minor": 5
}
