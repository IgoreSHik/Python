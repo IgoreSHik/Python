{
 "cells": [
  {
   "cell_type": "code",
   "execution_count": 1,
   "id": "22876faf",
   "metadata": {},
   "outputs": [],
   "source": [
    "import numpy as np\n",
    "import matplotlib.pyplot as plt"
   ]
  },
  {
   "cell_type": "code",
   "execution_count": 2,
   "id": "7a2b60f5",
   "metadata": {},
   "outputs": [],
   "source": [
    "class Perceptron:\n",
    "    def __init__(self, n):\n",
    "        self.weights = np.random.rand(n)\n",
    "        self.bias = np.random.rand()\n",
    "\n",
    "    def calculate(self, wejscie):\n",
    "        answer = np.dot(wejscie, self.weights) + self.bias\n",
    "        return 1 if answer > 0 else 0\n",
    "\n",
    "    def train(self, wejscie, answer, trainRate, n):\n",
    "        for _ in range(n):\n",
    "            for i in range(len(wejscie)):\n",
    "                suggestion = self.calculate(wejscie[i])\n",
    "                error = answer[i] - suggestion\n",
    "                self.weights += trainRate * error * wejscie[i]\n",
    "                self.bias += trainRate * error"
   ]
  },
  {
   "cell_type": "code",
   "execution_count": 3,
   "id": "f1707533",
   "metadata": {},
   "outputs": [],
   "source": [
    "n = 2"
   ]
  },
  {
   "cell_type": "code",
   "execution_count": 4,
   "id": "db2d7e7f",
   "metadata": {},
   "outputs": [],
   "source": [
    "#AND\n",
    "wejscieAnd = np.array([[0, 0], [0, 1], [1, 0], [1, 1]])\n",
    "answerAnd = np.array([0, 0, 0, 1])"
   ]
  },
  {
   "cell_type": "code",
   "execution_count": 5,
   "id": "13302837",
   "metadata": {},
   "outputs": [],
   "source": [
    "perceptronAnd = Perceptron(n)\n",
    "perceptronAnd.train(wejscieAnd, answerAnd, trainRate=0.1, n=1000)"
   ]
  },
  {
   "cell_type": "code",
   "execution_count": 6,
   "id": "4de0ac3d",
   "metadata": {},
   "outputs": [
    {
     "name": "stdout",
     "output_type": "stream",
     "text": [
      "0\n"
     ]
    }
   ],
   "source": [
    "testAnd = np.array([[0, 1]])\n",
    "print(perceptronAnd.calculate(testAnd))"
   ]
  },
  {
   "cell_type": "code",
   "execution_count": 7,
   "id": "a678b99e",
   "metadata": {},
   "outputs": [],
   "source": [
    "#OR\n",
    "wejscieOr = np.array([[0, 0], [0, 1], [1, 0], [1, 1]])\n",
    "answerOr = np.array([0, 1, 1, 1])"
   ]
  },
  {
   "cell_type": "code",
   "execution_count": 8,
   "id": "b6cfe43c",
   "metadata": {},
   "outputs": [],
   "source": [
    "perceptronOr = Perceptron(n)\n",
    "perceptronOr.train(wejscieOr, answerOr, trainRate=0.1, n=1000)"
   ]
  },
  {
   "cell_type": "code",
   "execution_count": 9,
   "id": "09deb2c4",
   "metadata": {},
   "outputs": [
    {
     "name": "stdout",
     "output_type": "stream",
     "text": [
      "1\n"
     ]
    }
   ],
   "source": [
    "testOr = np.array([[0, 1]])\n",
    "print(perceptronOr.calculate(testOr))"
   ]
  },
  {
   "cell_type": "code",
   "execution_count": null,
   "id": "80e3a2e6",
   "metadata": {},
   "outputs": [],
   "source": []
  },
  {
   "cell_type": "code",
   "execution_count": null,
   "id": "d59aee0c",
   "metadata": {},
   "outputs": [],
   "source": []
  },
  {
   "cell_type": "code",
   "execution_count": null,
   "id": "5c000466",
   "metadata": {},
   "outputs": [],
   "source": []
  },
  {
   "cell_type": "code",
   "execution_count": null,
   "id": "130e4c9d",
   "metadata": {},
   "outputs": [],
   "source": []
  }
 ],
 "metadata": {
  "kernelspec": {
   "display_name": "Python 3 (ipykernel)",
   "language": "python",
   "name": "python3"
  },
  "language_info": {
   "codemirror_mode": {
    "name": "ipython",
    "version": 3
   },
   "file_extension": ".py",
   "mimetype": "text/x-python",
   "name": "python",
   "nbconvert_exporter": "python",
   "pygments_lexer": "ipython3",
   "version": "3.11.3"
  }
 },
 "nbformat": 4,
 "nbformat_minor": 5
}
