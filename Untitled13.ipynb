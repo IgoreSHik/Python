{
 "cells": [
  {
   "cell_type": "code",
   "execution_count": 1,
   "id": "7146c475",
   "metadata": {},
   "outputs": [],
   "source": [
    "import tensorflow as tf\n",
    "from tensorflow import keras\n",
    "from tensorflow.keras import layers\n",
    "from tensorflow.keras.datasets import cifar10\n",
    "from tensorflow.keras.applications import MobileNetV2\n",
    "from tensorflow.keras.applications.mobilenet_v2 import preprocess_input\n",
    "\n",
    "(x_train, y_train), (x_test, y_test) = cifar10.load_data()\n",
    "x_train, x_test = x_train / 255.0, x_test / 255.0"
   ]
  },
  {
   "cell_type": "code",
   "execution_count": 2,
   "id": "6ef58af2",
   "metadata": {},
   "outputs": [
    {
     "name": "stdout",
     "output_type": "stream",
     "text": [
      "WARNING:tensorflow:`input_shape` is undefined or non-square, or `rows` is not in [96, 128, 160, 192, 224]. Weights for input shape (224, 224) will be loaded as the default.\n"
     ]
    }
   ],
   "source": [
    "base_model = MobileNetV2(weights='imagenet', include_top=False,\n",
    "input_shape=(32, 32, 3))\n",
    "\n",
    "base_model.trainable = False"
   ]
  },
  {
   "cell_type": "code",
   "execution_count": 3,
   "id": "a7688126",
   "metadata": {},
   "outputs": [
    {
     "name": "stdout",
     "output_type": "stream",
     "text": [
      "Epoch 1/5\n",
      "1563/1563 [==============================] - 57s 33ms/step - loss: 2.0552 - accuracy: 0.2750 - val_loss: 1.9627 - val_accuracy: 0.3002\n",
      "Epoch 2/5\n",
      "1563/1563 [==============================] - 54s 34ms/step - loss: 1.9308 - accuracy: 0.3102 - val_loss: 1.9227 - val_accuracy: 0.3071\n",
      "Epoch 3/5\n",
      "1563/1563 [==============================] - 51s 33ms/step - loss: 1.9033 - accuracy: 0.3170 - val_loss: 1.9083 - val_accuracy: 0.3083\n",
      "Epoch 4/5\n",
      "1563/1563 [==============================] - 52s 33ms/step - loss: 1.8905 - accuracy: 0.3206 - val_loss: 1.9019 - val_accuracy: 0.3141\n",
      "Epoch 5/5\n",
      "1563/1563 [==============================] - 51s 33ms/step - loss: 1.8831 - accuracy: 0.3210 - val_loss: 1.8985 - val_accuracy: 0.3153\n",
      "313/313 [==============================] - 9s 27ms/step - loss: 1.8985 - accuracy: 0.3153\n",
      "\n",
      "Test accuracy: 0.31529998779296875\n"
     ]
    }
   ],
   "source": [
    "model = keras.Sequential([\n",
    " base_model,\n",
    " layers.GlobalAveragePooling2D(),\n",
    " layers.Dense(10, activation='softmax')\n",
    "])\n",
    "\n",
    "model.compile(optimizer='adam',\n",
    "loss='sparse_categorical_crossentropy',\n",
    "metrics=['accuracy'])\n",
    "\n",
    "model.fit(x_train, y_train, epochs=5, validation_data=(x_test, y_test))\n",
    "\n",
    "test_loss, test_acc = model.evaluate(x_test, y_test)\n",
    "print(f'\\nTest accuracy: {test_acc}')"
   ]
  },
  {
   "cell_type": "code",
   "execution_count": 4,
   "id": "c4cccd79",
   "metadata": {},
   "outputs": [
    {
     "name": "stdout",
     "output_type": "stream",
     "text": [
      "Epoch 1/10\n",
      "1563/1563 [==============================] - 61s 36ms/step - loss: 2.0569 - accuracy: 0.2763 - val_loss: 1.9627 - val_accuracy: 0.3035\n",
      "Epoch 2/10\n",
      "1563/1563 [==============================] - 51s 33ms/step - loss: 1.9312 - accuracy: 0.3085 - val_loss: 1.9233 - val_accuracy: 0.3052\n",
      "Epoch 3/10\n",
      "1563/1563 [==============================] - 62s 39ms/step - loss: 1.9030 - accuracy: 0.3168 - val_loss: 1.9083 - val_accuracy: 0.3096\n",
      "Epoch 4/10\n",
      "1563/1563 [==============================] - 52s 33ms/step - loss: 1.8905 - accuracy: 0.3187 - val_loss: 1.9025 - val_accuracy: 0.3099\n",
      "Epoch 5/10\n",
      "1563/1563 [==============================] - 52s 33ms/step - loss: 1.8833 - accuracy: 0.3207 - val_loss: 1.8984 - val_accuracy: 0.3151\n",
      "Epoch 6/10\n",
      "1563/1563 [==============================] - 52s 34ms/step - loss: 1.8785 - accuracy: 0.3213 - val_loss: 1.8969 - val_accuracy: 0.3147\n",
      "Epoch 7/10\n",
      "1563/1563 [==============================] - 52s 33ms/step - loss: 1.8752 - accuracy: 0.3224 - val_loss: 1.8949 - val_accuracy: 0.3139\n",
      "Epoch 8/10\n",
      "1563/1563 [==============================] - 59s 38ms/step - loss: 1.8724 - accuracy: 0.3240 - val_loss: 1.8943 - val_accuracy: 0.3168\n",
      "Epoch 9/10\n",
      "1563/1563 [==============================] - 54s 35ms/step - loss: 1.8704 - accuracy: 0.3250 - val_loss: 1.8938 - val_accuracy: 0.3158\n",
      "Epoch 10/10\n",
      "1563/1563 [==============================] - 55s 35ms/step - loss: 1.8687 - accuracy: 0.3256 - val_loss: 1.8935 - val_accuracy: 0.3160\n",
      "313/313 [==============================] - 11s 35ms/step - loss: 1.8935 - accuracy: 0.3160\n",
      "\n",
      "Test accuracy: 0.3160000145435333\n"
     ]
    }
   ],
   "source": [
    "model = keras.Sequential([\n",
    " base_model,\n",
    " layers.GlobalAveragePooling2D(),\n",
    " layers.Dense(10, activation='softmax')\n",
    "])\n",
    "\n",
    "model.compile(optimizer='adam',\n",
    "loss='sparse_categorical_crossentropy',\n",
    "metrics=['accuracy'])\n",
    "\n",
    "model.fit(x_train, y_train, epochs=10, validation_data=(x_test, y_test))\n",
    "\n",
    "test_loss, test_acc = model.evaluate(x_test, y_test)\n",
    "print(f'\\nTest accuracy: {test_acc}')"
   ]
  },
  {
   "cell_type": "code",
   "execution_count": 5,
   "id": "d899b300",
   "metadata": {},
   "outputs": [
    {
     "name": "stdout",
     "output_type": "stream",
     "text": [
      "Epoch 1/10\n",
      "1563/1563 [==============================] - 53s 31ms/step - loss: 2.1993 - accuracy: 0.2770 - val_loss: 2.0105 - val_accuracy: 0.2987\n",
      "Epoch 2/10\n",
      "1563/1563 [==============================] - 47s 30ms/step - loss: 1.9626 - accuracy: 0.3096 - val_loss: 1.9427 - val_accuracy: 0.3071\n",
      "Epoch 3/10\n",
      "1563/1563 [==============================] - 47s 30ms/step - loss: 1.9178 - accuracy: 0.3155 - val_loss: 1.9182 - val_accuracy: 0.3085\n",
      "Epoch 4/10\n",
      "1563/1563 [==============================] - 50s 32ms/step - loss: 1.8979 - accuracy: 0.3192 - val_loss: 1.9074 - val_accuracy: 0.3134\n",
      "Epoch 5/10\n",
      "1563/1563 [==============================] - 50s 32ms/step - loss: 1.8872 - accuracy: 0.3202 - val_loss: 1.9008 - val_accuracy: 0.3138\n",
      "Epoch 6/10\n",
      "1563/1563 [==============================] - 50s 32ms/step - loss: 1.8804 - accuracy: 0.3216 - val_loss: 1.8976 - val_accuracy: 0.3139\n",
      "Epoch 7/10\n",
      "1563/1563 [==============================] - 55s 35ms/step - loss: 1.8762 - accuracy: 0.3231 - val_loss: 1.8959 - val_accuracy: 0.3150\n",
      "Epoch 8/10\n",
      "1563/1563 [==============================] - 52s 33ms/step - loss: 1.8729 - accuracy: 0.3245 - val_loss: 1.8948 - val_accuracy: 0.3169\n",
      "Epoch 9/10\n",
      "1563/1563 [==============================] - 49s 32ms/step - loss: 1.8708 - accuracy: 0.3254 - val_loss: 1.8945 - val_accuracy: 0.3141\n",
      "Epoch 10/10\n",
      "1563/1563 [==============================] - 47s 30ms/step - loss: 1.8689 - accuracy: 0.3245 - val_loss: 1.8939 - val_accuracy: 0.3178\n",
      "313/313 [==============================] - 8s 26ms/step - loss: 1.8939 - accuracy: 0.3178\n",
      "\n",
      "Test accuracy: 0.31779998540878296\n"
     ]
    }
   ],
   "source": [
    "model = keras.Sequential([\n",
    " base_model,\n",
    " layers.GlobalAveragePooling2D(),\n",
    " layers.Dense(20, activation='softmax')\n",
    "])\n",
    "\n",
    "model.compile(optimizer='adam',\n",
    "loss='sparse_categorical_crossentropy',\n",
    "metrics=['accuracy'])\n",
    "\n",
    "model.fit(x_train, y_train, epochs=10, validation_data=(x_test, y_test))\n",
    "\n",
    "test_loss, test_acc = model.evaluate(x_test, y_test)\n",
    "print(f'\\nTest accuracy: {test_acc}')"
   ]
  },
  {
   "cell_type": "code",
   "execution_count": 7,
   "id": "18bd35a8",
   "metadata": {},
   "outputs": [
    {
     "name": "stdout",
     "output_type": "stream",
     "text": [
      "Epoch 1/5\n",
      "1563/1563 [==============================] - 55s 32ms/step - loss: 2.6872 - accuracy: 0.1012 - val_loss: 2.3103 - val_accuracy: 0.1002\n",
      "Epoch 2/5\n",
      "1563/1563 [==============================] - 54s 34ms/step - loss: 2.3063 - accuracy: 0.1003 - val_loss: 2.3080 - val_accuracy: 0.1001\n",
      "Epoch 3/5\n",
      "1563/1563 [==============================] - 47s 30ms/step - loss: 2.3029 - accuracy: 0.1002 - val_loss: 2.3072 - val_accuracy: 0.1001\n",
      "Epoch 4/5\n",
      "1563/1563 [==============================] - 48s 31ms/step - loss: 2.3024 - accuracy: 0.1002 - val_loss: 2.3072 - val_accuracy: 0.1001\n",
      "Epoch 5/5\n",
      "1563/1563 [==============================] - 51s 33ms/step - loss: 2.3020 - accuracy: 0.1002 - val_loss: 2.3072 - val_accuracy: 0.1001\n",
      "313/313 [==============================] - 10s 31ms/step - loss: 2.3072 - accuracy: 0.1001\n",
      "\n",
      "Test accuracy: 0.10010000318288803\n"
     ]
    }
   ],
   "source": [
    "model = keras.Sequential([\n",
    " base_model,\n",
    " layers.GlobalAveragePooling2D(),\n",
    " layers.Dense(10, activation='relu')\n",
    "])\n",
    "\n",
    "model.compile(optimizer='adam',\n",
    "loss='sparse_categorical_crossentropy',\n",
    "metrics=['accuracy'])\n",
    "\n",
    "model.fit(x_train, y_train, epochs=5, validation_data=(x_test, y_test))\n",
    "\n",
    "test_loss, test_acc = model.evaluate(x_test, y_test)\n",
    "print(f'\\nTest accuracy: {test_acc}')"
   ]
  },
  {
   "cell_type": "code",
   "execution_count": 8,
   "id": "b4033268",
   "metadata": {},
   "outputs": [
    {
     "name": "stdout",
     "output_type": "stream",
     "text": [
      "Epoch 1/10\n",
      "1563/1563 [==============================] - 56s 32ms/step - loss: 2.6749 - accuracy: 0.1038 - val_loss: 2.3145 - val_accuracy: 0.1005\n",
      "Epoch 2/10\n",
      "1563/1563 [==============================] - 48s 31ms/step - loss: 2.3079 - accuracy: 0.1003 - val_loss: 2.3104 - val_accuracy: 0.1004\n",
      "Epoch 3/10\n",
      "1563/1563 [==============================] - 49s 31ms/step - loss: 2.3039 - accuracy: 0.1002 - val_loss: 2.3090 - val_accuracy: 0.1004\n",
      "Epoch 4/10\n",
      "1563/1563 [==============================] - 49s 32ms/step - loss: 2.3029 - accuracy: 0.1002 - val_loss: 2.3074 - val_accuracy: 0.1004\n",
      "Epoch 5/10\n",
      "1563/1563 [==============================] - 49s 31ms/step - loss: 2.3024 - accuracy: 0.1002 - val_loss: 2.3065 - val_accuracy: 0.1004\n",
      "Epoch 6/10\n",
      "1563/1563 [==============================] - 49s 31ms/step - loss: 2.3023 - accuracy: 0.1002 - val_loss: 2.3066 - val_accuracy: 0.1003\n",
      "Epoch 7/10\n",
      "1563/1563 [==============================] - 51s 33ms/step - loss: 2.3022 - accuracy: 0.1001 - val_loss: 2.3067 - val_accuracy: 0.1003\n",
      "Epoch 8/10\n",
      "1563/1563 [==============================] - 51s 33ms/step - loss: 2.3022 - accuracy: 0.1001 - val_loss: 2.3067 - val_accuracy: 0.1003\n",
      "Epoch 9/10\n",
      "1563/1563 [==============================] - 55s 35ms/step - loss: 2.3024 - accuracy: 0.1001 - val_loss: 2.3054 - val_accuracy: 0.1005\n",
      "Epoch 10/10\n",
      "1563/1563 [==============================] - 53s 34ms/step - loss: 2.3022 - accuracy: 0.1001 - val_loss: 2.3054 - val_accuracy: 0.1005\n",
      "313/313 [==============================] - 8s 26ms/step - loss: 2.3054 - accuracy: 0.1005\n",
      "\n",
      "Test accuracy: 0.10050000250339508\n"
     ]
    }
   ],
   "source": [
    "model = keras.Sequential([\n",
    " base_model,\n",
    " layers.GlobalAveragePooling2D(),\n",
    " layers.Dense(10, activation='relu')\n",
    "])\n",
    "\n",
    "model.compile(optimizer='adam',\n",
    "loss='sparse_categorical_crossentropy',\n",
    "metrics=['accuracy'])\n",
    "\n",
    "model.fit(x_train, y_train, epochs=10, validation_data=(x_test, y_test))\n",
    "\n",
    "test_loss, test_acc = model.evaluate(x_test, y_test)\n",
    "print(f'\\nTest accuracy: {test_acc}')"
   ]
  },
  {
   "cell_type": "code",
   "execution_count": 9,
   "id": "ea5328d5",
   "metadata": {},
   "outputs": [
    {
     "name": "stdout",
     "output_type": "stream",
     "text": [
      "Epoch 1/10\n",
      "1563/1563 [==============================] - 55s 32ms/step - loss: 3.3495 - accuracy: 0.1027 - val_loss: 3.0066 - val_accuracy: 0.1000\n",
      "Epoch 2/10\n",
      "1563/1563 [==============================] - 48s 31ms/step - loss: 2.9960 - accuracy: 0.1002 - val_loss: 3.0080 - val_accuracy: 0.1000\n",
      "Epoch 3/10\n",
      "1563/1563 [==============================] - 54s 35ms/step - loss: 2.9952 - accuracy: 0.1002 - val_loss: 3.0080 - val_accuracy: 0.1000\n",
      "Epoch 4/10\n",
      "1563/1563 [==============================] - 52s 33ms/step - loss: 2.9952 - accuracy: 0.1002 - val_loss: 3.0080 - val_accuracy: 0.1000\n",
      "Epoch 5/10\n",
      "1563/1563 [==============================] - 48s 31ms/step - loss: 2.9955 - accuracy: 0.1002 - val_loss: 3.0078 - val_accuracy: 0.1000\n",
      "Epoch 6/10\n",
      "1563/1563 [==============================] - 49s 31ms/step - loss: 2.9953 - accuracy: 0.1001 - val_loss: 3.0085 - val_accuracy: 0.1000\n",
      "Epoch 7/10\n",
      "1563/1563 [==============================] - 49s 32ms/step - loss: 2.9954 - accuracy: 0.1001 - val_loss: 3.0078 - val_accuracy: 0.1000\n",
      "Epoch 8/10\n",
      "1563/1563 [==============================] - 50s 32ms/step - loss: 2.9953 - accuracy: 0.1001 - val_loss: 3.0078 - val_accuracy: 0.1000\n",
      "Epoch 9/10\n",
      "1563/1563 [==============================] - 63s 41ms/step - loss: 2.9953 - accuracy: 0.1001 - val_loss: 3.0078 - val_accuracy: 0.1000\n",
      "Epoch 10/10\n",
      "1563/1563 [==============================] - 54s 35ms/step - loss: 2.9953 - accuracy: 0.1001 - val_loss: 3.0078 - val_accuracy: 0.1000\n",
      "313/313 [==============================] - 8s 26ms/step - loss: 3.0078 - accuracy: 0.1000\n",
      "\n",
      "Test accuracy: 0.10000000149011612\n"
     ]
    }
   ],
   "source": [
    "model = keras.Sequential([\n",
    " base_model,\n",
    " layers.GlobalAveragePooling2D(),\n",
    " layers.Dense(20, activation='relu')\n",
    "])\n",
    "\n",
    "model.compile(optimizer='adam',\n",
    "loss='sparse_categorical_crossentropy',\n",
    "metrics=['accuracy'])\n",
    "\n",
    "model.fit(x_train, y_train, epochs=10, validation_data=(x_test, y_test))\n",
    "\n",
    "test_loss, test_acc = model.evaluate(x_test, y_test)\n",
    "print(f'\\nTest accuracy: {test_acc}')"
   ]
  },
  {
   "cell_type": "code",
   "execution_count": null,
   "id": "411e4cab",
   "metadata": {},
   "outputs": [],
   "source": []
  }
 ],
 "metadata": {
  "kernelspec": {
   "display_name": "Python 3 (ipykernel)",
   "language": "python",
   "name": "python3"
  },
  "language_info": {
   "codemirror_mode": {
    "name": "ipython",
    "version": 3
   },
   "file_extension": ".py",
   "mimetype": "text/x-python",
   "name": "python",
   "nbconvert_exporter": "python",
   "pygments_lexer": "ipython3",
   "version": "3.10.13"
  }
 },
 "nbformat": 4,
 "nbformat_minor": 5
}
