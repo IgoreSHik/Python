{
 "cells": [
  {
   "cell_type": "code",
   "execution_count": 4,
   "id": "20625ce5",
   "metadata": {},
   "outputs": [
    {
     "name": "stdout",
     "output_type": "stream",
     "text": [
      "Epoch 1/5\n",
      "1500/1500 [==============================] - 7s 4ms/step - loss: 0.3262 - accuracy: 0.9058 - val_loss: 0.1626 - val_accuracy: 0.9535\n",
      "Epoch 2/5\n",
      "1500/1500 [==============================] - 5s 3ms/step - loss: 0.1570 - accuracy: 0.9534 - val_loss: 0.1150 - val_accuracy: 0.9681\n",
      "Epoch 3/5\n",
      "1500/1500 [==============================] - 5s 4ms/step - loss: 0.1166 - accuracy: 0.9655 - val_loss: 0.1004 - val_accuracy: 0.9702\n",
      "Epoch 4/5\n",
      "1500/1500 [==============================] - 6s 4ms/step - loss: 0.0937 - accuracy: 0.9714 - val_loss: 0.0941 - val_accuracy: 0.9720\n",
      "Epoch 5/5\n",
      "1500/1500 [==============================] - 5s 3ms/step - loss: 0.0793 - accuracy: 0.9754 - val_loss: 0.0844 - val_accuracy: 0.9764\n"
     ]
    },
    {
     "data": {
      "text/plain": [
       "keras.callbacks.TensorBoard"
      ]
     },
     "execution_count": 4,
     "metadata": {},
     "output_type": "execute_result"
    }
   ],
   "source": [
    "import numpy as np\n",
    "import matplotlib.pyplot as plt\n",
    "from tensorflow import keras\n",
    "from tensorflow.keras import layers\n",
    "(x_train, y_train), _ = keras.datasets.mnist.load_data()\n",
    "x_train = x_train.reshape((x_train.shape[0], -1)) / 255.0\n",
    "# 1. Przygotowanie Modelu\n",
    "model = keras.Sequential([\n",
    " layers.Dense(128, activation='relu', input_shape=(784,)),\n",
    " layers.Dropout(0.2),\n",
    " layers.Dense(10, activation='softmax')\n",
    "])\n",
    "model.compile(optimizer='adam',\n",
    " loss='sparse_categorical_crossentropy',\n",
    " metrics=['accuracy'])\n",
    "# 2. Konfiguracja TensorBoard\n",
    "from tensorflow.keras.callbacks import TensorBoard\n",
    "NAME = \"2_layers\"\n",
    "tensorboard_callback = TensorBoard(log_dir=\"logs/{}\".format(NAME),\n",
    "histogram_freq=1)\n",
    "# 4. Trenowanie Modelu z TensorBoard\n",
    "#model.fit(x_train, y_train, epochs=5, callbacks=[tensorboard_callback])\n",
    "model.fit(x_train, y_train, epochs=5, validation_split=0.2,\n",
    "callbacks=[tensorboard_callback])\n",
    "# Wpisz polecenie \"tensorboard --logdir=./logs\" w Terminalu, aby uruchomić\n",
    "TensorBoard\n"
   ]
  },
  {
   "cell_type": "code",
   "execution_count": null,
   "id": "51ce40ed",
   "metadata": {},
   "outputs": [],
   "source": []
  },
  {
   "cell_type": "code",
   "execution_count": null,
   "id": "5f99061d",
   "metadata": {},
   "outputs": [],
   "source": []
  }
 ],
 "metadata": {
  "kernelspec": {
   "display_name": "Python 3 (ipykernel)",
   "language": "python",
   "name": "python3"
  },
  "language_info": {
   "codemirror_mode": {
    "name": "ipython",
    "version": 3
   },
   "file_extension": ".py",
   "mimetype": "text/x-python",
   "name": "python",
   "nbconvert_exporter": "python",
   "pygments_lexer": "ipython3",
   "version": "3.10.13"
  }
 },
 "nbformat": 4,
 "nbformat_minor": 5
}
